{
 "cells": [
  {
   "cell_type": "code",
   "execution_count": 3,
   "metadata": {},
   "outputs": [],
   "source": [
    "import nltk\n",
    "import pandas as pd\n",
    "import numpy as np\n",
    "import random\n",
    "import re\n",
    "from nltk.tokenize import word_tokenize\n",
    "from nltk import pos_tag\n",
    "from nltk.corpus import stopwords, wordnet as wn\n",
    "from nltk.stem import WordNetLemmatizer\n",
    "from collections import defaultdict\n",
    "from sklearn.model_selection import train_test_split\n",
    "from sklearn.preprocessing import LabelEncoder\n",
    "from sklearn.feature_extraction.text import TfidfVectorizer\n",
    "from sklearn import naive_bayes, svm\n",
    "from sklearn.metrics import accuracy_score, classification_report, confusion_matrix\n",
    "from langdetect import detect"
   ]
  },
  {
   "cell_type": "code",
   "execution_count": 4,
   "metadata": {},
   "outputs": [],
   "source": [
    "# Set random seeds for reproducibility\n",
    "SEED = 500\n",
    "random.seed(SEED)\n",
    "np.random.seed(SEED)"
   ]
  },
  {
   "cell_type": "code",
   "execution_count": 5,
   "metadata": {},
   "outputs": [],
   "source": [
    "# Load JSONL file\n",
    "file_path = \"DUTA10K_final.jsonl\"\n",
    "df = pd.read_json(file_path, lines=True)"
   ]
  },
  {
   "cell_type": "code",
   "execution_count": 6,
   "metadata": {},
   "outputs": [],
   "source": [
    "# Get unique languages from the 'lang' column to build a multi-language stopword list\n",
    "langs = df[\"lang\"].unique().tolist()\n",
    "multi_stops = set()\n",
    "for lg in langs:\n",
    "    try:\n",
    "        multi_stops |= set(stopwords.words(lg))\n",
    "    except OSError:\n",
    "        pass"
   ]
  },
  {
   "cell_type": "code",
   "execution_count": 7,
   "metadata": {},
   "outputs": [],
   "source": [
    "# Define a function to clean text by removing stopwords\n",
    "def clean_multilang(text):\n",
    "    tokens = re.findall(r\"\\b\\w+\\b\", text.lower())\n",
    "    return \" \".join(w for w in tokens if w not in multi_stops)\n",
    "\n",
    "# Apply the cleaning function to the 'text' column to create a new 'clean_text' column\n",
    "df[\"clean_text\"] = df[\"text\"].map(clean_multilang)"
   ]
  },
  {
   "cell_type": "code",
   "execution_count": 8,
   "metadata": {},
   "outputs": [],
   "source": [
    "# Split the data into training and testing sets\n",
    "# X is the cleaned text, y is the label (binary classification: 0 or 1)\n",
    "X_train, X_test, y_train, y_test = train_test_split(\n",
    "    df[\"text\"],\n",
    "    df[\"label\"],\n",
    "    test_size=0.3,\n",
    "    random_state=500,\n",
    "    stratify=df[\"label\"]    # keep the 0/1 balance\n",
    ")"
   ]
  },
  {
   "cell_type": "code",
   "execution_count": 9,
   "metadata": {},
   "outputs": [],
   "source": [
    "# Initialize TF-IDF Vectorizer\n",
    "tfidf = TfidfVectorizer(max_features=5000) # Initialize TF-IDF Vectorizer\n",
    "X_train_tfidf = tfidf.fit_transform(X_train) # Fit the TF-IDF vectorizer on the training data and transform it\n",
    "X_test_tfidf  = tfidf.transform(X_test) # Transform the test data using the fitted TF-IDF vectorizer"
   ]
  },
  {
   "cell_type": "code",
   "execution_count": 16,
   "metadata": {},
   "outputs": [],
   "source": [
    "# Define a function to evaluate binary classification models\n",
    "def evaluate_classic_binary(y_true, y_pred,\n",
    "                            labels=(0,1),\n",
    "                            target_names=(\"non-illicit\",\"illicit\")):\n",
    "    acc = accuracy_score(y_true, y_pred)\n",
    "    print(f\"Test Accuracy: {acc:.4f}\\n\")\n",
    "    \n",
    "    print(\"=== Classification Report ===\")\n",
    "    print(classification_report(\n",
    "        y_true,\n",
    "        y_pred,\n",
    "        labels=labels,\n",
    "        target_names=target_names,\n",
    "        zero_division=0,\n",
    "        digits=4\n",
    "    ))\n",
    "    \n",
    "    print(\"=== Confusion Matrix ===\")\n",
    "    print(confusion_matrix(\n",
    "        y_true,\n",
    "        y_pred,\n",
    "        labels=labels\n",
    "    ))"
   ]
  },
  {
   "cell_type": "code",
   "execution_count": 13,
   "metadata": {},
   "outputs": [],
   "source": [
    "# Train and evaluate Naive Bayes model\n",
    "nb = naive_bayes.MultinomialNB()\n",
    "nb.fit(X_train_tfidf, y_train)\n",
    "pred_nb = nb.predict(X_test_tfidf)"
   ]
  },
  {
   "cell_type": "code",
   "execution_count": 17,
   "metadata": {},
   "outputs": [
    {
     "name": "stdout",
     "output_type": "stream",
     "text": [
      "=== Naive Bayes (TF-IDF + multi-stopwords) ===\n",
      "Accuracy: 0.8636\n",
      "Test Accuracy: 0.8636\n",
      "\n",
      "=== Classification Report ===\n",
      "              precision    recall  f1-score   support\n",
      "\n",
      " non-illicit     0.8756    0.9695    0.9201      1016\n",
      "     illicit     0.7597    0.4118    0.5341       238\n",
      "\n",
      "    accuracy                         0.8636      1254\n",
      "   macro avg     0.8176    0.6906    0.7271      1254\n",
      "weighted avg     0.8536    0.8636    0.8469      1254\n",
      "\n",
      "=== Confusion Matrix ===\n",
      "[[985  31]\n",
      " [140  98]]\n"
     ]
    }
   ],
   "source": [
    "print(\"=== Naive Bayes (TF-IDF + multi-stopwords) ===\")\n",
    "evaluate_classic_binary(y_test, pred_nb)"
   ]
  },
  {
   "cell_type": "code",
   "execution_count": 18,
   "metadata": {},
   "outputs": [],
   "source": [
    "# Train and evaluate Support Vector Machine (SVM) model\n",
    "svm_clf = svm.SVC(kernel=\"linear\", random_state=500)\n",
    "svm_clf.fit(X_train_tfidf, y_train)\n",
    "pred_svm = svm_clf.predict(X_test_tfidf)"
   ]
  },
  {
   "cell_type": "code",
   "execution_count": 19,
   "metadata": {},
   "outputs": [
    {
     "name": "stdout",
     "output_type": "stream",
     "text": [
      "\n",
      "--- SVM ---\n",
      "Test Accuracy: 0.8987\n",
      "\n",
      "=== Classification Report ===\n",
      "              precision    recall  f1-score   support\n",
      "\n",
      " non-illicit     0.9037    0.9793    0.9400      1016\n",
      "     illicit     0.8627    0.5546    0.6752       238\n",
      "\n",
      "    accuracy                         0.8987      1254\n",
      "   macro avg     0.8832    0.7670    0.8076      1254\n",
      "weighted avg     0.8959    0.8987    0.8897      1254\n",
      "\n",
      "=== Confusion Matrix ===\n",
      "[[995  21]\n",
      " [106 132]]\n"
     ]
    }
   ],
   "source": [
    "print(\"\\n--- SVM ---\")\n",
    "evaluate_classic_binary(y_test, pred_svm)"
   ]
  }
 ],
 "metadata": {
  "kernelspec": {
   "display_name": "Python 3 (ipykernel)",
   "language": "python",
   "name": "python3"
  },
  "language_info": {
   "codemirror_mode": {
    "name": "ipython",
    "version": 3
   },
   "file_extension": ".py",
   "mimetype": "text/x-python",
   "name": "python",
   "nbconvert_exporter": "python",
   "pygments_lexer": "ipython3",
   "version": "3.11.5"
  }
 },
 "nbformat": 4,
 "nbformat_minor": 2
}
